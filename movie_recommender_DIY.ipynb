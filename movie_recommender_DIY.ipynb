{
 "cells": [
  {
   "cell_type": "markdown",
   "metadata": {},
   "source": [
    "## **Schritt 1: Importieren der Abhängigkeiten**"
   ]
  },
  {
   "cell_type": "code",
   "execution_count": 1,
   "metadata": {},
   "outputs": [],
   "source": [
    "import scipy\n",
    "import numpy as np\n",
    "import matplotlib.pyplot as plt\n",
    "import seaborn as sns\n",
    "import pandas as pd"
   ]
  },
  {
   "cell_type": "markdown",
   "metadata": {},
   "source": [
    "## **Schritt 2: Laden der Daten**"
   ]
  },
  {
   "cell_type": "code",
   "execution_count": null,
   "metadata": {},
   "outputs": [],
   "source": [
    "# die Pfade zu den Dateien zu laden\n",
    "filmpfad = \"https://raw.githubusercontent.com/andresmorenoviteri/workshops/refs/heads/main/movies.csv\"\n",
    "Bewertungspfad = \"https://raw.githubusercontent.com/andresmorenoviteri/workshops/refs/heads/main/ratings.csv\""
   ]
  },
  {
   "cell_type": "code",
   "execution_count": null,
   "metadata": {},
   "outputs": [],
   "source": [
    "filme = pd.read_csv(filmpfad)\n",
    "bewertungen = pd.read_csv(Bewertungspfad)"
   ]
  },
  {
   "cell_type": "markdown",
   "metadata": {},
   "source": [
    "# **Vorbearbeitung**"
   ]
  },
  {
   "cell_type": "markdown",
   "metadata": {},
   "source": [
    "## **Schritt 3: Datenexploration** "
   ]
  },
  {
   "cell_type": "code",
   "execution_count": null,
   "metadata": {},
   "outputs": [],
   "source": [
    "filme.head()"
   ]
  },
  {
   "cell_type": "code",
   "execution_count": null,
   "metadata": {},
   "outputs": [],
   "source": [
    "filme.columns = ['filmId', 'titel', 'genres']\n",
    "filme.head()"
   ]
  },
  {
   "cell_type": "code",
   "execution_count": null,
   "metadata": {},
   "outputs": [],
   "source": [
    "bewertungen.head()"
   ]
  },
  {
   "cell_type": "code",
   "execution_count": null,
   "metadata": {},
   "outputs": [],
   "source": [
    "bewertungen = bewertungen.drop('timestamp', axis=1)\n",
    "bewertungen.columns = ['benutzerId', 'filmId', 'bewertung']\n",
    "bewertungen.head()"
   ]
  },
  {
   "cell_type": "code",
   "execution_count": null,
   "metadata": {},
   "outputs": [],
   "source": [
    "z_bewertugen = len(____)\n",
    "z_filme = filme[____].nunique()\n",
    "z_benutzer = ____[____].nunique()\n",
    "\n",
    "print(f\"Zahl der Bewertugen: {z_bewertugen}\")\n",
    "print(f\"Zahl der Filme: {z_filme}\")\n",
    "print(f\"Zahl der Benutzer: {z_benutzer}\")\n",
    "print(f\"durchschnittliche Anzahl der Bewertungen pro Film: {round(z_bewertugen/z_filme, 2)}\")\n",
    "print(f\"durchschnittliche Anzahl von Bewertungen pro Nutzer: {round(z_bewertugen/z_benutzer, 2)}\") "
   ]
  },
  {
   "cell_type": "markdown",
   "metadata": {},
   "source": [
    "### Verteilung der Filmbewertungen\n",
    "- Wie können wir sehen, wie die Bewertungen verteilt sind?"
   ]
  },
  {
   "cell_type": "code",
   "execution_count": null,
   "metadata": {},
   "outputs": [],
   "source": [
    "# Sind die Bewertungen gleichmäßig verteilt oder in irgendeiner Weise verzerrt?\n",
    "\n",
    "dataframe_name = ____\n",
    "Bewertungsspalte = ____\n",
    "\n",
    "sns.countplot(x=Bewertungsspalte, hue=Bewertungsspalte, data=dataframe_name, palette='viridis')"
   ]
  },
  {
   "cell_type": "markdown",
   "metadata": {},
   "source": [
    "### Bewertungsdurchschnitt\n",
    "- Welche zwei Durchschnitte aus den Bewertungen haben wir?"
   ]
  },
  {
   "cell_type": "code",
   "execution_count": null,
   "metadata": {},
   "outputs": [],
   "source": [
    "# Wie lautet die durchschnittliche Bewertung?\n",
    "print(f\"durchschnitt Gesamtbewertung: {____}\")\n",
    "\n",
    "# Wie lautet die durchschnittliche Bewertung pro Nutzer?\n",
    "durchschnittliche_Bewertung = ____\n",
    "print(f\"durchschnittliche Bewertung pro Nutzer: {round(durchschnittliche_Bewertung.mean(), 2)}\")"
   ]
  },
  {
   "cell_type": "code",
   "execution_count": null,
   "metadata": {},
   "outputs": [],
   "source": [
    "bewertungen.describe()"
   ]
  },
  {
   "cell_type": "markdown",
   "metadata": {},
   "source": [
    "### Welche Filme werden am häufigsten bewertet?"
   ]
  },
  {
   "cell_type": "code",
   "execution_count": null,
   "metadata": {},
   "outputs": [],
   "source": [
    "bewertungen[____].value_counts()"
   ]
  },
  {
   "cell_type": "code",
   "execution_count": null,
   "metadata": {},
   "outputs": [],
   "source": [
    "film_bewertungen = ____.merge(____, how='inner', on=____)\n",
    "film_bewertungen['title'].value_counts()"
   ]
  },
  {
   "cell_type": "markdown",
   "metadata": {},
   "source": [
    "### Schlussfolgerung:"
   ]
  },
  {
   "cell_type": "markdown",
   "metadata": {},
   "source": [
    "### Prüfen, ob in den Datensätzen Leerstellen vorhanden sind."
   ]
  },
  {
   "cell_type": "code",
   "execution_count": null,
   "metadata": {},
   "outputs": [],
   "source": [
    "film_bewertungen.info()"
   ]
  },
  {
   "cell_type": "markdown",
   "metadata": {},
   "source": [
    "### Welches sind die am schlechtesten und am besten bewerteten Filme?"
   ]
  },
  {
   "cell_type": "code",
   "execution_count": null,
   "metadata": {},
   "outputs": [],
   "source": [
    "film_bewertungen.head()"
   ]
  },
  {
   "cell_type": "code",
   "execution_count": null,
   "metadata": {},
   "outputs": [],
   "source": [
    "# einen Datenrahmen aus den Filmbewertungen erstellen, \n",
    "# der nur die Statistiken aus den Bewertungen für jeden Film enthält\n",
    "Filmstatistiken = film_bewertungen.groupby(____)[____].agg([____, ____]).reset_index()\n",
    "Filmstatistiken.head()"
   ]
  },
  {
   "cell_type": "code",
   "execution_count": null,
   "metadata": {},
   "outputs": [],
   "source": [
    "# Film mit der niedrigsten Bewertung\n",
    "niedrigste_bewertet = Filmstatistiken.loc[____][____]\n",
    "print(f'Film mit der niedrigsten Bewertung: {niedrigste_bewertet}')"
   ]
  },
  {
   "cell_type": "code",
   "execution_count": null,
   "metadata": {},
   "outputs": [],
   "source": [
    "# am besten bewerteter Film\n",
    "höchste_bewertet = Filmstatistiken.loc[____][____]\n",
    "print(f'Film mit der besten Bewertung: {höchste_bewertet}')"
   ]
  },
  {
   "cell_type": "code",
   "execution_count": null,
   "metadata": {},
   "outputs": [],
   "source": [
    "# # Wie viele Bewertungen hat der am besten bewertete Film?\n",
    "len(Filmstatistiken[Filmstatistiken['titel'] == \"'Salem's Lot (2004)\"])"
   ]
  },
  {
   "cell_type": "markdown",
   "metadata": {},
   "source": [
    "Eine einzige Bewertung reicht nicht aus, um einen hoch bewerteten Film zu erhalten. Verwenden Sie den Bayes'schen Durchschnitt, um eine bessere Vorhersage zu erhalten."
   ]
  },
  {
   "cell_type": "markdown",
   "metadata": {
    "vscode": {
     "languageId": "raw"
    }
   },
   "source": [
    "### **Bayesianischer Durchschnitt**\n",
    "\n",
    "Der Bayesianische Durchschnitt ist eine Methode zur Schätzung des Mittelwerts einer Grundgesamtheit unter Verwendung externer Informationen, insbesondere einer bereits bestehenden Überzeugung, die in die Berechnung einfließt.\n",
    "\n",
    "Der Bayesianische Durchschnitt ist definiert als:\n",
    "\n",
    "$x_{i} =  \\frac{C \\times m + \\Sigma{\\text{ratings}}}{C+N}$\n",
    " \n",
    "- $C$ wird auf der Grundlage der Größe des Datensatzes gewählt, in unserem Fall ist es die durchschnittliche Anzahl der Bewertungen pro Film.\n",
    "- $m$ ist der vorherige Mittelwert, in unserem Fall die durchschnittliche Bewertung für einen bestimmten Film.\n",
    "- $N$ ist die Gesamtzahl der Bewertungen für den Film $i$."
   ]
  },
  {
   "cell_type": "code",
   "execution_count": null,
   "metadata": {},
   "outputs": [],
   "source": [
    "c = ____\n",
    "m = ____\n",
    "\n",
    "print(f'durchschnittliche Zahl der Bewertungen für einen bestimmten Film: {round(c, 2)}')\n",
    "print(f'durchschnittliche Bewertung für einen bestimmten Film: {round(m, 2)}')\n",
    "\n",
    "# neue Spalte mit Bayes'schen Durchschnittswerten erstellen\n",
    "bayesian_average_list = []\n",
    "for idx, row in Filmstatistiken.iterrows():\n",
    "    x = (____)\n",
    "    bayesian_average_list.append(x)"
   ]
  },
  {
   "cell_type": "markdown",
   "metadata": {},
   "source": [
    "### Neue Spalte zu movie_stats hinzufügen"
   ]
  },
  {
   "cell_type": "code",
   "execution_count": null,
   "metadata": {},
   "outputs": [],
   "source": [
    "Filmstatistiken[____] = ____\n",
    "Filmstatistiken.head()"
   ]
  },
  {
   "cell_type": "code",
   "execution_count": null,
   "metadata": {},
   "outputs": [],
   "source": [
    "# überprüfen, wie hoch der bayesianische Durchschnitt für \"Salem's Lot\" ist\n",
    "____[____[].str.contains(____)]"
   ]
  },
  {
   "cell_type": "markdown",
   "metadata": {},
   "source": [
    "Jetzt sehen wir, dass „Salem's Lot“ nicht mehr der am besten bewertete Film ist."
   ]
  },
  {
   "cell_type": "markdown",
   "metadata": {},
   "source": [
    "### Den Film mit der niedrigsten und der höchsten bayesianischen Bewertung finden."
   ]
  },
  {
   "cell_type": "code",
   "execution_count": null,
   "metadata": {},
   "outputs": [],
   "source": [
    "# Film mit der niedrigsten Bewertung\n",
    "bayesian_min = Filmstatistiken.loc[Filmstatistiken['____'].idxmin()]['titel']\n",
    "bayesian_min"
   ]
  },
  {
   "cell_type": "code",
   "execution_count": null,
   "metadata": {},
   "outputs": [],
   "source": [
    "# Film mit der höchsten Bewertung\n",
    "bayesian_max = ____.loc[____[____].____()][____]\n",
    "bayesian_max"
   ]
  },
  {
   "cell_type": "code",
   "execution_count": null,
   "metadata": {},
   "outputs": [],
   "source": [
    "# Reihenfolge der Filme in absteigender Reihenfolge\n",
    "Filmstatistiken.sort_values(by='bayesian_average', ascending=False)"
   ]
  },
  {
   "cell_type": "code",
   "execution_count": null,
   "metadata": {},
   "outputs": [],
   "source": [
    "# Reihenfolge der Filme in aufsteigender Reihenfolge\n",
    "Filmstatistiken.____(by=____, ascending=____)"
   ]
  },
  {
   "cell_type": "markdown",
   "metadata": {},
   "source": [
    "Fazit des bestbewerteten Films:\n",
    "\n",
    "Fazit niedrigst bewerteter Film:"
   ]
  },
  {
   "cell_type": "markdown",
   "metadata": {},
   "source": [
    "### Ein Blick auf die Filmgenres."
   ]
  },
  {
   "cell_type": "code",
   "execution_count": null,
   "metadata": {},
   "outputs": [],
   "source": [
    "filme.head()"
   ]
  },
  {
   "cell_type": "code",
   "execution_count": null,
   "metadata": {},
   "outputs": [],
   "source": [
    "# Aufteilung der Genres in eine Liste, um sie zu zählen\n",
    "filme['genres'] = filme['genres'].apply(____))\n",
    "filme.head()"
   ]
  },
  {
   "cell_type": "markdown",
   "metadata": {},
   "source": [
    "### **Filmgenres zählen**"
   ]
  },
  {
   "cell_type": "code",
   "execution_count": null,
   "metadata": {},
   "outputs": [],
   "source": [
    "from collections import Counter\n",
    "\n",
    "genres_liste = filme['genres'].explode()\n",
    "genre_zaehler = Counter(genres_liste)\n",
    "genre_zaehler"
   ]
  },
  {
   "cell_type": "code",
   "execution_count": null,
   "metadata": {},
   "outputs": [],
   "source": [
    "# Welches sind die 5 häufigsten Genres?\n",
    "print(f\"die 5 häufigsten Filmgenres sind: {genre_zaehler.____(____)}\")"
   ]
  },
  {
   "cell_type": "markdown",
   "metadata": {},
   "source": [
    "### Diagramm Genre vs. Count"
   ]
  },
  {
   "cell_type": "code",
   "execution_count": null,
   "metadata": {},
   "outputs": [],
   "source": [
    "genre_zahlen = pd.DataFrame([____]).T.reset_index()\n",
    "genre_zahlen.columns = [____, ____]\n",
    "\n",
    "sns.barplot(x=____, y=____, hue='genre', data=____.sort_values(by='count', ascending=False), legend=False, palette='viridis')\n",
    "plt.xticks(rotation=____)\n",
    "plt.show()"
   ]
  },
  {
   "cell_type": "markdown",
   "metadata": {},
   "source": [
    "## **Schritt 4: Vorverarbeitung der Daten**\n",
    "\n",
    "Wir werden die Technik der kollaborativen Filterung anwenden, um Empfehlungen für die Benutzer zu erstellen.\n",
    "Die Grundlage für diese Technik ist, dass ähnliche Nutzer einen ähnlichen Filmgeschmack haben.\n",
    "\n",
    "Wir beginnen damit, unsere Daten in eine „Nutzwertmatrix“ umzuwandeln, d. h. eine Matrix aus Nutzern und Objekten. Die Zeilen werden repräsentieren die Nutzer, während die Spalten die Filme darstellen."
   ]
  },
  {
   "cell_type": "code",
   "execution_count": null,
   "metadata": {},
   "outputs": [],
   "source": [
    "film_bewertungen.head()"
   ]
  },
  {
   "cell_type": "code",
   "execution_count": null,
   "metadata": {},
   "outputs": [],
   "source": [
    "Filmstatistiken['count'][Filmstatistiken['titel'] == ____]"
   ]
  },
  {
   "cell_type": "code",
   "execution_count": null,
   "metadata": {},
   "outputs": [],
   "source": [
    "from scipy.sparse import csr_matrix # (Compressed Sparse Row Matrix)\n",
    "\n",
    "def erstellen_matrix(df):\n",
    "\n",
    "    zeilen = df[____].nunique()\n",
    "    spalten = df[____].nunique()\n",
    "\n",
    "    benutzerMapper = dict(zip(np.unique(df[____]), list(range(____))))\n",
    "    filmMapper = dict(zip(np.unique(df[____]), list(range(____))))\n",
    "\n",
    "    invBenutzerrMapper = dict(zip(list(range(____)), np.unique(df[____])))\n",
    "    invFilmMapper = dict(zip(list(range(____)), np.unique(df[____])))\n",
    "\n",
    "    # create the user-item interaction matrix\n",
    "    benutzerFilmeMatrix = pd.pivot_table(____, values=____, index=____, columns=_____).fillna(0)\n",
    "    sparseMatrix= csr_matrix(benutzerFilmeMatrix)\n",
    "\n",
    "    # convert matrix to sparse matrix\n",
    "    return sparseMatrix, benutzerMapper, filmMapper, invBenutzerrMapper, invFilmMapper \n",
    "\n",
    "sparse_matrix, benutzer_mapper, film_mapper, inv_benutzer_mapper, inv_film_mapper = erstellen_matrix(film_bewertungen)"
   ]
  },
  {
   "cell_type": "code",
   "execution_count": null,
   "metadata": {},
   "outputs": [],
   "source": [
    "sparse_matrix.nnz"
   ]
  },
  {
   "cell_type": "markdown",
   "metadata": {},
   "source": [
    "### Maß für die Dünnbesetztheit\n",
    "Die Dünnbesetzt wird berechnet, indem die Anzahl der gespeicherten (nicht leeren) Felder durch die Gesamtzahl der Felder geteilt wird. Die Anzahl der gespeicherten Werte in unserer Matrix entspricht der Anzahl der Bewertungen in unserem Datensatz."
   ]
  },
  {
   "cell_type": "code",
   "execution_count": null,
   "metadata": {},
   "outputs": [],
   "source": [
    "Gesamtzellen = ____\n",
    "\n",
    "# Zahl der Bewertungen\n",
    "z_bewertugen = sparse_matrix.nnz #csr_matrix.nnz zählt die gespeicherten Werte in der dünnbesetzten Matrix. Der Rest der Zellen ist leer\n",
    "\n",
    "sparsity = z_bewertugen / Gesamtzellen\n",
    "print(f\"Matrix sparsity: {round(sparsity*100, 2)}%\")"
   ]
  },
  {
   "cell_type": "markdown",
   "metadata": {},
   "source": [
    "Das **Kaltstartproblem** tritt auf, wenn es neue Nutzer und Filme gibt, die noch keine Bewertungen haben.\n",
    " \n",
    "In unserem Movielens-Datensatz haben alle Nutzer und Filme mindestens eine Bewertung, aber im Allgemeinen ist es wichtig, zu prüfen, ob Nutzer und Filme wenige oder keine Interventionen haben.\n"
   ]
  },
  {
   "cell_type": "markdown",
   "metadata": {},
   "source": [
    "Hier wird überprüft, ob alle Zellen im Datensatz nicht leer sind."
   ]
  },
  {
   "cell_type": "code",
   "execution_count": null,
   "metadata": {},
   "outputs": [],
   "source": [
    "z_bewertungen_pro_benutzer = sparse_matrix.getnnz(axis=1)\n",
    "len(z_bewertungen_pro_benutzer)"
   ]
  },
  {
   "cell_type": "code",
   "execution_count": null,
   "metadata": {},
   "outputs": [],
   "source": [
    "print(f\"Der aktivste Nutzer bewertet {z_bewertungen_pro_benutzer.max()} Filme.\")\n",
    "print(f\"Der am wenigsten aktive Nutzer bewertet {z_bewertungen_pro_benutzer.____()} Filme.\")"
   ]
  },
  {
   "cell_type": "code",
   "execution_count": null,
   "metadata": {},
   "outputs": [],
   "source": [
    "z_bewertungen_pro_film = sparse_matrix.getnnz(axis=0)\n",
    "len(z_bewertungen_pro_film)"
   ]
  },
  {
   "cell_type": "code",
   "execution_count": null,
   "metadata": {},
   "outputs": [],
   "source": [
    "print(f\"Der am höchsten bewertete Film hat {z_bewertungen_pro_film.____()} Bewertugen.\")\n",
    "print(f\"Der am niedrigsten bewertete Film hat {z_bewertungen_pro_film.____()} Bewertungen.\")"
   ]
  },
  {
   "cell_type": "code",
   "execution_count": null,
   "metadata": {},
   "outputs": [],
   "source": [
    "# beide Arrays plotten\n",
    "plt.figure(figsize=(16, 4))\n",
    "plt.subplot(1, 2, 1)\n",
    "sns.kdeplot(____, fill=True)\n",
    "plt.xlim(0)\n",
    "plt.title(\"Zahl der Bewertungen pro Benutzer\", fontsize=14)\n",
    "plt.xlabel(\"Zahl der Bewertungen pro Benutzer\")\n",
    "plt.ylabel(\"density\")\n",
    "plt.subplot(1, 2, 2)\n",
    "sns.kdeplot(____, fill=True)\n",
    "plt.xlim(0)\n",
    "plt.title(\"Zahl der Bewertungen pro Film\", fontsize=14)\n",
    "plt.xlabel(\"Zahl der Bewertungen pro Film\")\n",
    "plt.ylabel(\"density\")\n",
    "plt.show()"
   ]
  },
  {
   "cell_type": "markdown",
   "metadata": {},
   "source": [
    "## **Schritt 5: Item-Empfehlungen mit *K-Nearest-Neighbors***\n",
    "\n",
    "Wir werden die k Filme finden, die die ähnlichsten Vektoren für das Nutzerengagement für einen Film i haben.\n"
   ]
  },
  {
   "cell_type": "code",
   "execution_count": null,
   "metadata": {},
   "outputs": [],
   "source": [
    "from sklearn.neighbors import NearestNeighbors\n",
    "\n",
    "def find_empfohlene_filme(filmId, sparseMatrix, filmMapper, invFilmMapper, k, metric='cosine'):\n",
    "    # Matrix transponieren, um Filmempfehlungen aus der Matrix zu erhalten\n",
    "    sparseMatrix = sparseMatrix.T\n",
    "    empfehlungIds = []\n",
    "    filmIdx = filmMapper[filmId]\n",
    "    filmVec = sparseMatrix[filmIdx]\n",
    "    if isinstance(filmVec, (np.ndarray)):\n",
    "        filmVec = filmVec.reshape(1, -1)\n",
    "    # k+1 verwenden, da die knn-Ausgaben die interessierende filmId enthalten\n",
    "    knn = NearestNeighbors(n_neighbors=k+1, metric=metric, algorithm='brute')\n",
    "    knn.fit(sparseMatrix)\n",
    "    empfehlungen = knn.kneighbors(filmVec, return_distance=False)\n",
    "    for i in range(0, k):\n",
    "        n = empfehlungen.item(i)\n",
    "        empfehlungIds.append(invFilmMapper[n])\n",
    "    empfehlungIds.pop(0)\n",
    "    return empfehlungIds"
   ]
  },
  {
   "cell_type": "markdown",
   "metadata": {},
   "source": [
    "### Interaktive Grafik"
   ]
  },
  {
   "cell_type": "code",
   "execution_count": null,
   "metadata": {},
   "outputs": [],
   "source": [
    "from sklearn.decomposition import PCA\n",
    "import plotly.express as px\n",
    "from sklearn.preprocessing import StandardScaler\n",
    "from sklearn.manifold import TSNE\n",
    "import pandas as pd\n",
    "import numpy as np\n",
    "from sklearn.neighbors import NearestNeighbors\n",
    "\n",
    "def interaktive_visualisierung(film_bewertungen_df, sparseMatrix, filmMapper, invFilmMapper, k, metric='cosine'):\n",
    "    # Transponierte dünnbesetzte Matrix\n",
    "    sparseMatrix = sparseMatrix.T\n",
    "\n",
    "    # Normalisieren vor der Dimensionalitätsreduktion\n",
    "    scaler = StandardScaler()\n",
    "    scaledSparseMatrix = scaler.fit_transform(sparseMatrix.toarray())  \n",
    "\n",
    "    # Anwendung von t-SNE zur besseren Visualisierung\n",
    "    tsne = TSNE(n_components=2, perplexity=50, random_state=42)\n",
    "    reducedMatrix = tsne.fit_transform(scaledSparseMatrix)\n",
    "\n",
    "    # Einen DataFrame für die Visualisierung erstellen\n",
    "    df = pd.DataFrame(reducedMatrix, columns=['PCA1', 'PCA2'])\n",
    "    df['filmId'] = [invFilmMapper[i] for i in range(sparseMatrix.shape[0])]\n",
    "\n",
    "    # Effiziente Zuordnung von movieId zu Titeln\n",
    "    film_id_zu_titel = film_bewertungen_df.set_index('filmId')['titel'].to_dict()\n",
    "    df['title'] = df['filmId'].map(film_id_zu_titel)\n",
    "\n",
    "    # KNN für Empfehlungen anwenden\n",
    "    knn = NearestNeighbors(n_neighbors=k+1, metric=metric, algorithm='brute')\n",
    "    knn.fit(sparseMatrix)\n",
    "\n",
    "    def get_recommendations(filmId):\n",
    "        filmIdx = filmMapper[filmId]\n",
    "        filmVec = sparseMatrix[filmIdx]\n",
    "        filmVec = filmVec.reshape(1, -1) if isinstance(filmVec, np.ndarray) else filmVec\n",
    "        empfehlungen = knn.kneighbors(filmVec, return_distance=False)[0][1:]  # Den Film selbst ausschließen\n",
    "        return [invFilmMapper[n] for n in empfehlungen]\n",
    "\n",
    "    # Empfehlungen generieren\n",
    "    df['empfehlungen'] = df['filmId'].apply(lambda x: [film_id_zu_titel.get(int(i), \"Unknown\") for i in get_recommendations(x)])\n",
    "\n",
    "    # Eindeutige Farbwerte zuweisen\n",
    "    df['farbe'] = range(len(df))\n",
    "\n",
    "    # Erstellen eines interaktiven Streudiagramms\n",
    "    fig = px.scatter(\n",
    "        df,\n",
    "        x='PCA1',\n",
    "        y='PCA2',\n",
    "        hover_data=['titel', 'empfehlungen'],\n",
    "        title=\"Filmcluster mit Empfehlungen\",\n",
    "        template='plotly_dark',\n",
    "        color='farbe',\n",
    "        opacity=0.6\n",
    "    )\n",
    "\n",
    "    # Verbesserung der Sichtbarkeit von Markern\n",
    "    fig.update_traces(marker=dict(size=4, opacity=0.7))\n",
    "    fig.update_layout(clickmode='event+select')\n",
    "\n",
    "    # Zeigen Sie den Plot\n",
    "    fig.show()\n",
    "\n",
    "# Rufen Sie die Funktion mit den entsprechenden Parametern auf\n",
    "interaktive_visualisierung(film_bewertungen, sparse_matrix, film_mapper, inv_film_mapper, 5)"
   ]
  },
  {
   "cell_type": "markdown",
   "metadata": {},
   "source": [
    "### Ergebnisse"
   ]
  },
  {
   "cell_type": "markdown",
   "metadata": {},
   "source": [
    "**find_recommended_movies()** liefert eine Liste von **movieIds**, die dem gewünschten Film am ähnlichsten sind.\n",
    "\n",
    "Wir erstellen ein Wörterbuch, das die **movieId** dem **title** des Films zuordnet."
   ]
  },
  {
   "cell_type": "code",
   "execution_count": null,
   "metadata": {},
   "outputs": [],
   "source": [
    "filmtitel = find_empfohlene_filme(1, sparse_matrix, film_mapper, inv_film_mapper, 10) \n",
    "filmtitel"
   ]
  },
  {
   "cell_type": "code",
   "execution_count": null,
   "metadata": {},
   "outputs": [],
   "source": [
    "# aus den gefundenen Indizes, müssen wir diese in die \n",
    "# dazu passende movieId umwandeln. \n",
    "print(f\"Für den Film  {____[____].loc[____[____] == 1].unique().item()}, lauten die Empfehlungen:\")\n",
    "for id in filmtitel:\n",
    "    print(____[____].loc[____[____] == ____].unique().item())"
   ]
  },
  {
   "cell_type": "markdown",
   "metadata": {},
   "source": [
    "Für den Film *Toy Story* scheinen die Empfehlungen alle Filme aus den 90er Jahren zu sein, was logisch erscheint.\n",
    "\n",
    "Wir könnten auch andere Abstandsmetriken neben *Kosinus* ausprobieren, wie *Manhattan* oder *Euklidisch*.\n",
    "\n",
    "*Kosinus* ist eine gute Metrik, wenn wir nicht die Größe der Vektoren für den Abstand in Betracht ziehen wollen, sondern eher die Richtung des Vektors.\n",
    "\n",
    "Bei der Verwendung von *Manhattan*- oder *Euklidischen*-Distanzen ist es wichtig, die Daten vor ihrer Anwendung zu normalisieren, wenn die verschiedenen Parameter unserer Daten unterschiedliche Bereiche aufweisen.\n",
    "\n",
    "Die beste Praxis in diesem Schritt zur Optimierung der Hyperparameter ist die Durchführung von Gittersuchen, insbesondere die zufällige Gittersuche."
   ]
  },
  {
   "cell_type": "code",
   "execution_count": null,
   "metadata": {},
   "outputs": [],
   "source": [
    "filmtitel = find_empfohlene_filme(1, sparse_matrix, film_mapper, inv_film_mapper, 10, metric='euclidean') \n",
    "filmtitel"
   ]
  },
  {
   "cell_type": "code",
   "execution_count": null,
   "metadata": {},
   "outputs": [],
   "source": [
    "# aus den gefundenen Indizes müssen wir diese in die dazu passende movieId umwandeln \n",
    "print(f\"Für den Film  {film_bewertungen['titel'].loc[film_bewertungen['filmId'] == 1].unique().item()}, lauten die Empfehlungen:\")\n",
    "for id in filmtitel:\n",
    "    print(film_bewertungen['titel'].loc[film_bewertungen['filmId'] == id].unique().item())"
   ]
  },
  {
   "cell_type": "markdown",
   "metadata": {},
   "source": [
    "Bei Verwendung des euklidischen Abstands ergeben sich einige verschiedene Filme."
   ]
  },
  {
   "cell_type": "markdown",
   "metadata": {},
   "source": [
    "## **Schritt 6: Behandlung des Kaltstartproblems**\n",
    "\n",
    "Die kollaborative Filterung stützt sich ausschließlich auf die Interaktionen zwischen Nutzern und Objekten innerhalb der Nutzwertmatrix. Das Problem bei diesem Ansatz besteht darin, dass ein neuer Benutzer oder ein neues Element aus der Nutzenmatrix ausgeschlossen wird, sobald es einen solchen gibt. Dies ist als **Kaltstartproblem** bekannt. Die inhaltsbasierte Filterung ist eine Möglichkeit, dieses Problem zu umgehen, da sie sich auf die Erstellung von Empfehlungen auf der Grundlage von Benutzer- und Artikelmerkmalen konzentriert.\n",
    "\n",
    "Wir beginnen mit der Umwandlung einer *Genre*-Spalte in binäre Merkmale. Jedes Genre hat seine eigene Spalte und wird mit 1en und 0en gefüllt."
   ]
  },
  {
   "cell_type": "code",
   "execution_count": null,
   "metadata": {},
   "outputs": [],
   "source": [
    "filme = pd.read_csv(\"ml-latest-small\\\\movies.csv\")\n",
    "filme.columns = ['filmId', 'titel', 'genres']\n",
    "filme.head()"
   ]
  },
  {
   "cell_type": "code",
   "execution_count": null,
   "metadata": {},
   "outputs": [],
   "source": [
    "# Erstellen eines dataframe mit dem Namen movie_genres \n",
    "# mit den einzelnen Genres in eigenen Spalten\n",
    "Filmgenres = filme[____].str.get_dummies(sep=____)\n",
    "Filmgenres.head()"
   ]
  },
  {
   "cell_type": "code",
   "execution_count": null,
   "metadata": {},
   "outputs": [],
   "source": [
    "Filmgenres.shape"
   ]
  },
  {
   "cell_type": "markdown",
   "metadata": {},
   "source": [
    "### Kreiere eine *cosine similarity matrix*"
   ]
  },
  {
   "cell_type": "code",
   "execution_count": null,
   "metadata": {},
   "outputs": [],
   "source": [
    "from sklearn.metrics.pairwise import cosine_similarity\n",
    "\n",
    "cosine_sim = cosine_similarity(____)\n",
    "print(f\"Dimensionen unserer Genres Kosinus-Ähnlichkeitsmatrix: {____.shape}\")"
   ]
  },
  {
   "cell_type": "markdown",
   "metadata": {},
   "source": [
    "Die *cosine_similarity* ermittelt einen Wert zwischen 0 und 1, der angibt, wie ähnlich jede Zeile der einen Matrix den anderen Zeilen der zweiten Matrix ist.\n",
    "\n",
    "1 bedeutet identisch und 0 ist völlig unterschiedlich. \n",
    "\n",
    "Da wir ursprünglich 9742 Filme haben, ist es richtig, dass die Form dieser Matrix wie folgt aussehen würde $(n_{\\text{movies}}, n_{\\text{movies}})$"
   ]
  },
  {
   "cell_type": "markdown",
   "metadata": {},
   "source": [
    "#### Erstellen einer Filmfindungsfunktion\n",
    "\n",
    "Wenn wir Filmempfehlungen ähnlich wie *Jumanji* erhalten möchten, müssen wir den genauen Titel kennen, wie er in unserem Datensatz erscheint. *Jumanji* ist zum Beispiel als *Jumanji (1995)* aufgeführt. Wenn wir ihn falsch schreiben oder das Erscheinungsjahr vergessen, erkennt der Empfehlungsgeber den Film nicht.\n",
    "\n",
    "Um es den Nutzern leichter zu machen, können wir das Python-Paket fuzzywuzzy verwenden. Es hilft dabei, den Titel zu finden, der am ehesten mit einer vom Benutzer eingegebenen Zeichenkette übereinstimmt. Wir werden eine Funktion, **movie_finder()**, erstellen, die fuzzywuzzy's String-Matching verwendet, um die beste Übereinstimmung für den Eingabetitel vorzuschlagen."
   ]
  },
  {
   "cell_type": "code",
   "execution_count": null,
   "metadata": {},
   "outputs": [],
   "source": [
    "from fuzzywuzzy import process\n",
    "\n",
    "def film_finder(titel):\n",
    "    alle_filme = filme['titel'].tolist()\n",
    "    best_match = process.extractOne(____, ____)\n",
    "    return best_match[0]"
   ]
  },
  {
   "cell_type": "markdown",
   "metadata": {},
   "source": [
    "Testen wir mit *jumanji*"
   ]
  },
  {
   "cell_type": "code",
   "execution_count": null,
   "metadata": {},
   "outputs": [],
   "source": [
    "titel = ____\n",
    "titel"
   ]
  },
  {
   "cell_type": "markdown",
   "metadata": {},
   "source": [
    "Um eine Empfehlung zu erhalten, erstellen wir einen Film-Mapper für den Index in der Matrix."
   ]
  },
  {
   "cell_type": "code",
   "execution_count": null,
   "metadata": {},
   "outputs": [],
   "source": [
    "film_idx = dict(zip(filme['titel'], list(filme.index)))\n",
    "idx = film_idx[titel]\n",
    "print(f\"Filmindex für Jumanji: {idx}\")"
   ]
  },
  {
   "cell_type": "markdown",
   "metadata": {},
   "source": [
    "Wir erstellen eine Funktion, um die Empfehlungen für einen bestimmten Film zu erhalten."
   ]
  },
  {
   "cell_type": "code",
   "execution_count": null,
   "metadata": {},
   "outputs": [],
   "source": [
    "def finde_aehnliche_filme(filmtitel, z_empfehlungen=10):\n",
    "    titel = film_finder(filmtitel)\n",
    "    idx = film_idx[titel]\n",
    "    sim_scores = list(enumerate(cosine_sim[idx]))\n",
    "    sim_scores = sorted(sim_scores, key=lambda x : x[1], reverse=True)\n",
    "    sim_scores = sim_scores[1:z_empfehlungen+1]\n",
    "    aehnliche_Filme = [i[0] for i in sim_scores]\n",
    "    print(f\"weil du {titel} gesehen hast\")\n",
    "    print(filme['titel'].iloc[aehnliche_Filme])"
   ]
  },
  {
   "cell_type": "code",
   "execution_count": null,
   "metadata": {},
   "outputs": [],
   "source": [
    "finde_aehnliche_filme('Toy story', 3)"
   ]
  },
  {
   "cell_type": "markdown",
   "metadata": {},
   "source": [
    "## **Schritt 7: Matrixfaktorisierung zur Dimensionalitätsreduktion**\n",
    "\n",
    "Die Matrixfaktorisierung (MF) ist ein Verfahren der linearen Algebra, mit dem latente Merkmale entdeckt werden können, die den Interaktionen zwischen Nutzern und Filmen zugrunde liegen. Diese latenten Merkmale ermöglichen eine kompaktere Darstellung der Vorlieben der Nutzer und der Objektbeschreibungen. MF ist besonders nützlich für sehr spärliche Daten und kann die Qualität von Empfehlungen verbessern. Der Algorithmus funktioniert durch Faktorisierung der ursprünglichen Benutzer-Element-Matrix in zwei Faktormatrizen:\n",
    "\n",
    "- Benutzer-Faktor-Matrix (n_Nutzer, k)\n",
    "- Artikel-Faktor-Matrix (k, n_Einzelteile)\n",
    "\n",
    "Wir reduzieren die Dimensionen unserer ursprünglichen Matrix auf „Geschmacks“-Dimensionen. Wir können die genaue Bedeutung der einzelnen latenten Merkmale *k* nicht interpretieren. Wir können uns jedoch mögliche Bedeutungen für sie vorstellen, z. B. könnte ein Merkmal für Nutzer stehen, die Comedy-Action-Filme aus den frühen 2000er Jahren mögen, während ein anderes für Bollywood-Filme aus den 90er Jahren stehen könnte."
   ]
  },
  {
   "cell_type": "code",
   "execution_count": null,
   "metadata": {},
   "outputs": [],
   "source": [
    "from sklearn.decomposition import TruncatedSVD\n",
    "\n",
    "svd = TruncatedSVD(n_components=____, n_iter=____)\n",
    "Q = svd.fit_transform(___.T)\n",
    "Q.shape"
   ]
  },
  {
   "cell_type": "code",
   "execution_count": null,
   "metadata": {},
   "outputs": [],
   "source": [
    "film_id = 1\n",
    "empfohlene_Filme = find_empfohlene_filme(filmId=film_id, sparseMatrix=____.T, filmMapper=film_mapper, invFilmMapper=inv_film_mapper, metric='cosine', k=10)\n",
    "\n",
    "print(f\"Für den Film {film_bewertungen['titel'].loc[film_bewertungen['filmId'] == film_id].unique().item()}, lauten die Empfehlungen:\")\n",
    "for id in empfohlene_Filme:\n",
    "    print(film_bewertungen['titel'].loc[film_bewertungen['filmId'] == id].unique().item())"
   ]
  },
  {
   "cell_type": "markdown",
   "metadata": {},
   "source": [
    "Die Ergebnisse sind ähnlich wie bei einem KNN-Modell, es scheinen durchweg Filme aus den 90er Jahren zu sein, einschließlich einiger früherer Kinderfilme."
   ]
  }
 ],
 "metadata": {
  "kernelspec": {
   "display_name": "movieRecommender_venv",
   "language": "python",
   "name": "python3"
  },
  "language_info": {
   "codemirror_mode": {
    "name": "ipython",
    "version": 3
   },
   "file_extension": ".py",
   "mimetype": "text/x-python",
   "name": "python",
   "nbconvert_exporter": "python",
   "pygments_lexer": "ipython3",
   "version": "3.8.2"
  }
 },
 "nbformat": 4,
 "nbformat_minor": 2
}
